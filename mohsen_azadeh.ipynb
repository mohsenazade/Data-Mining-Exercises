{
  "nbformat": 4,
  "nbformat_minor": 0,
  "metadata": {
    "colab": {
      "name": "mohsen_azadeh.ipynb",
      "provenance": [],
      "collapsed_sections": [
        "aBdlk8QFEf7o",
        "hYhQIXAZ869_",
        "ISY5Kv7pE8_S",
        "M4JoPYDoCGZJ",
        "qBMH5H5B8OnI",
        "1OBNh0cu8FPC",
        "bqBnK0Mz9I1t",
        "OM98uUSv9S0V",
        "TgIF4TqB900-",
        "-Gq4tfOo94YP"
      ],
      "toc_visible": true,
      "include_colab_link": true
    },
    "kernelspec": {
      "name": "python3",
      "display_name": "Python 3"
    }
  },
  "cells": [
    {
      "cell_type": "markdown",
      "metadata": {
        "id": "view-in-github",
        "colab_type": "text"
      },
      "source": [
        "<a href=\"https://colab.research.google.com/github/mohsenazade/Data-Mining-Exercises/blob/main/mohsen_azadeh.ipynb\" target=\"_parent\"><img src=\"https://colab.research.google.com/assets/colab-badge.svg\" alt=\"Open In Colab\"/></a>"
      ]
    },
    {
      "cell_type": "markdown",
      "metadata": {
        "id": "QAsl7oBF59n-"
      },
      "source": [
        "#Library"
      ]
    },
    {
      "cell_type": "code",
      "metadata": {
        "colab": {
          "base_uri": "https://localhost:8080/"
        },
        "id": "5yiXyb9b6bz_",
        "outputId": "039dc51a-2e1f-496f-fde8-b31f7ad03b84"
      },
      "source": [
        "import pandas as pd\r\n",
        "from sklearn.feature_extraction.text import CountVectorizer,TfidfVectorizer\r\n",
        "from sklearn.base import TransformerMixin\r\n",
        "from sklearn.pipeline import Pipeline\r\n",
        "import nltk\r\n",
        "import spacy\r\n",
        "\r\n",
        "from nltk.corpus import sentiwordnet as swn\r\n",
        "import re\r\n",
        "from nltk.corpus import wordnet as wn\r\n",
        "from nltk.stem.wordnet import WordNetLemmatizer\r\n",
        "from nltk import word_tokenize, pos_tag\r\n",
        "from collections import defaultdict\r\n",
        "\r\n",
        "\r\n",
        "\r\n",
        "nltk.download('punkt')\r\n",
        "nltk.download('stopwords')\r\n",
        "nltk.download('wordnet')\r\n",
        "nltk.download('averaged_perceptron_tagger')\r\n",
        "nltk.download('sentiwordnet')\r\n"
      ],
      "execution_count": 92,
      "outputs": [
        {
          "output_type": "stream",
          "text": [
            "[nltk_data] Downloading package punkt to /root/nltk_data...\n",
            "[nltk_data]   Package punkt is already up-to-date!\n",
            "[nltk_data] Downloading package stopwords to /root/nltk_data...\n",
            "[nltk_data]   Package stopwords is already up-to-date!\n",
            "[nltk_data] Downloading package wordnet to /root/nltk_data...\n",
            "[nltk_data]   Package wordnet is already up-to-date!\n",
            "[nltk_data] Downloading package averaged_perceptron_tagger to\n",
            "[nltk_data]     /root/nltk_data...\n",
            "[nltk_data]   Package averaged_perceptron_tagger is already up-to-\n",
            "[nltk_data]       date!\n",
            "[nltk_data] Downloading package sentiwordnet to /root/nltk_data...\n",
            "[nltk_data]   Package sentiwordnet is already up-to-date!\n"
          ],
          "name": "stdout"
        },
        {
          "output_type": "execute_result",
          "data": {
            "text/plain": [
              "True"
            ]
          },
          "metadata": {
            "tags": []
          },
          "execution_count": 92
        }
      ]
    },
    {
      "cell_type": "code",
      "metadata": {
        "id": "pn6r2wN069xG"
      },
      "source": [
        "#import other lists of stopwords\r\n",
        "with open('/content/StopWords_GenericLong.txt', 'r') as f:\r\n",
        " x_gl = f.readlines()\r\n",
        "with open('/content/StopWords_Names.txt', 'r') as f:\r\n",
        " x_n = f.readlines()\r\n",
        "with open('/content/StopWords_DatesandNumbers.txt', 'r') as f:\r\n",
        " x_d = f.readlines()\r\n",
        "#import nltk stopwords\r\n",
        "stopwords = nltk.corpus.stopwords.words('english')#combine all stopwords\r\n",
        "[stopwords.append(x.rstrip()) for x in x_gl]\r\n",
        "[stopwords.append(x.rstrip()) for x in x_n]\r\n",
        "[stopwords.append(x.rstrip()) for x in x_d]\r\n",
        "#change all stopwords into lowercase\r\n",
        "stopwords_lower = [s.lower() for s in stopwords]"
      ],
      "execution_count": 93,
      "outputs": []
    },
    {
      "cell_type": "markdown",
      "metadata": {
        "id": "aBdlk8QFEf7o"
      },
      "source": [
        "#DataSet"
      ]
    },
    {
      "cell_type": "markdown",
      "metadata": {
        "id": "hYhQIXAZ869_"
      },
      "source": [
        "#####***Load Data***"
      ]
    },
    {
      "cell_type": "code",
      "metadata": {
        "colab": {
          "base_uri": "https://localhost:8080/",
          "height": 141
        },
        "id": "kCLfVqZQ7GrM",
        "outputId": "ae9ca3eb-f23f-4b24-8705-dc87169a9d94"
      },
      "source": [
        "# Loading csv file\r\n",
        "df =pd.read_csv('/content/BTCUSDnews_Mohsen_Azadeh_Label.csv', usecols=['Label','title','articleBody'],encoding = \"ISO-8859-1\")\r\n",
        "twe=df[['Label','articleBody']]\r\n",
        "twe['label']=twe['Label']\r\n",
        "twe['totallText']=twe['articleBody']\r\n",
        "totall=twe[['label','totallText']]\r\n",
        "totall.head(3)"
      ],
      "execution_count": 94,
      "outputs": [
        {
          "output_type": "execute_result",
          "data": {
            "text/html": [
              "<div>\n",
              "<style scoped>\n",
              "    .dataframe tbody tr th:only-of-type {\n",
              "        vertical-align: middle;\n",
              "    }\n",
              "\n",
              "    .dataframe tbody tr th {\n",
              "        vertical-align: top;\n",
              "    }\n",
              "\n",
              "    .dataframe thead th {\n",
              "        text-align: right;\n",
              "    }\n",
              "</style>\n",
              "<table border=\"1\" class=\"dataframe\">\n",
              "  <thead>\n",
              "    <tr style=\"text-align: right;\">\n",
              "      <th></th>\n",
              "      <th>label</th>\n",
              "      <th>totallText</th>\n",
              "    </tr>\n",
              "  </thead>\n",
              "  <tbody>\n",
              "    <tr>\n",
              "      <th>0</th>\n",
              "      <td>0</td>\n",
              "      <td>Bitcoins price action has been incredibly lac...</td>\n",
              "    </tr>\n",
              "    <tr>\n",
              "      <th>1</th>\n",
              "      <td>1</td>\n",
              "      <td>The United States is in turmoil, and the dolla...</td>\n",
              "    </tr>\n",
              "    <tr>\n",
              "      <th>2</th>\n",
              "      <td>0</td>\n",
              "      <td>An over 300 million active register accounts o...</td>\n",
              "    </tr>\n",
              "  </tbody>\n",
              "</table>\n",
              "</div>"
            ],
            "text/plain": [
              "   label                                         totallText\n",
              "0      0  Bitcoins price action has been incredibly lac...\n",
              "1      1  The United States is in turmoil, and the dolla...\n",
              "2      0  An over 300 million active register accounts o..."
            ]
          },
          "metadata": {
            "tags": []
          },
          "execution_count": 94
        }
      ]
    },
    {
      "cell_type": "code",
      "metadata": {
        "colab": {
          "base_uri": "https://localhost:8080/"
        },
        "id": "Km0odMCUEcfW",
        "outputId": "804ac440-53a2-4902-b14b-d070031a0031"
      },
      "source": [
        "totall.shape"
      ],
      "execution_count": 95,
      "outputs": [
        {
          "output_type": "execute_result",
          "data": {
            "text/plain": [
              "(855, 2)"
            ]
          },
          "metadata": {
            "tags": []
          },
          "execution_count": 95
        }
      ]
    },
    {
      "cell_type": "markdown",
      "metadata": {
        "id": "ISY5Kv7pE8_S"
      },
      "source": [
        "#####***Splitting into train and test***"
      ]
    },
    {
      "cell_type": "code",
      "metadata": {
        "id": "pdnqSlKEFCzm"
      },
      "source": [
        "from sklearn.model_selection import train_test_split\r\n",
        "totall_train, totall_test, target_train, target_test = train_test_split(totall.totallText,totall.label,test_size = 0.2)"
      ],
      "execution_count": 96,
      "outputs": []
    },
    {
      "cell_type": "code",
      "metadata": {
        "colab": {
          "base_uri": "https://localhost:8080/"
        },
        "id": "85XlvbmwGPVW",
        "outputId": "f0c2136a-658a-4be2-a943-7d9ab06e6600"
      },
      "source": [
        "totall_train.shape"
      ],
      "execution_count": 97,
      "outputs": [
        {
          "output_type": "execute_result",
          "data": {
            "text/plain": [
              "(684,)"
            ]
          },
          "metadata": {
            "tags": []
          },
          "execution_count": 97
        }
      ]
    },
    {
      "cell_type": "code",
      "metadata": {
        "colab": {
          "base_uri": "https://localhost:8080/"
        },
        "id": "eQgJXuZ6GnWu",
        "outputId": "7e76bb9e-3fb0-488e-9f32-bcd278f06086"
      },
      "source": [
        "totall_test.shape"
      ],
      "execution_count": 98,
      "outputs": [
        {
          "output_type": "execute_result",
          "data": {
            "text/plain": [
              "(171,)"
            ]
          },
          "metadata": {
            "tags": []
          },
          "execution_count": 98
        }
      ]
    },
    {
      "cell_type": "code",
      "metadata": {
        "colab": {
          "base_uri": "https://localhost:8080/"
        },
        "id": "DgUlsSBoGchH",
        "outputId": "83b7d2e1-5944-4247-fffe-6c2483cfdda3"
      },
      "source": [
        "totall_train.head(3)"
      ],
      "execution_count": 99,
      "outputs": [
        {
          "output_type": "execute_result",
          "data": {
            "text/plain": [
              "568    Bitcoin price suffered a powerful correction f...\n",
              "521    Bitcoin price extended its rise above the $10,...\n",
              "162    Bitcoin is trading in a contracting range abov...\n",
              "Name: totallText, dtype: object"
            ]
          },
          "metadata": {
            "tags": []
          },
          "execution_count": 99
        }
      ]
    },
    {
      "cell_type": "code",
      "metadata": {
        "colab": {
          "base_uri": "https://localhost:8080/"
        },
        "id": "pdc4s8i0Nq60",
        "outputId": "f92665b9-2f2d-4de5-9784-d40985fb4170"
      },
      "source": [
        "totall_test.head(3)"
      ],
      "execution_count": 100,
      "outputs": [
        {
          "output_type": "execute_result",
          "data": {
            "text/plain": [
              "87     Bitcoin has seen some of the most boring price...\n",
              "103    The Chinese stock market has found itself caug...\n",
              "415    Bitcoin has seemingly entered no man&#8217;s l...\n",
              "Name: totallText, dtype: object"
            ]
          },
          "metadata": {
            "tags": []
          },
          "execution_count": 100
        }
      ]
    },
    {
      "cell_type": "code",
      "metadata": {
        "colab": {
          "base_uri": "https://localhost:8080/",
          "height": 297
        },
        "id": "-bVHgggTxv0W",
        "outputId": "2afdd8e3-43a0-4bb9-e5c4-7aea99138f85"
      },
      "source": [
        "import matplotlib.pyplot as plt\r\n",
        "fig = plt.figure(figsize=(8,6))\r\n",
        "df.groupby('Label').count().plot.bar(ylim=0)\r\n",
        "plt.show()"
      ],
      "execution_count": 101,
      "outputs": [
        {
          "output_type": "display_data",
          "data": {
            "text/plain": [
              "<Figure size 576x432 with 0 Axes>"
            ]
          },
          "metadata": {
            "tags": []
          }
        },
        {
          "output_type": "display_data",
          "data": {
            "image/png": "[encoded data removed]",
            "text/plain": [
              "<Figure size 432x288 with 1 Axes>"
            ]
          },
          "metadata": {
            "tags": [],
            "needs_background": "light"
          }
        }
      ]
    },
    {
      "cell_type": "markdown",
      "metadata": {
        "id": "M4JoPYDoCGZJ"
      },
      "source": [
        "#***Text Processing***"
      ]
    },
    {
      "cell_type": "markdown",
      "metadata": {
        "id": "qBMH5H5B8OnI"
      },
      "source": [
        "#####***A. Cleaning of Raw Data***"
      ]
    },
    {
      "cell_type": "code",
      "metadata": {
        "id": "A2LYMx2J7vMl"
      },
      "source": [
        "def to_lower(word): \r\n",
        "     result = word.lower() \r\n",
        "     return result"
      ],
      "execution_count": 102,
      "outputs": []
    },
    {
      "cell_type": "code",
      "metadata": {
        "id": "dc98BDV5HEwC"
      },
      "source": [
        "def remove_number(word):\r\n",
        "    result = re.sub(r'\\d+', '', word)\r\n",
        "    return result"
      ],
      "execution_count": 103,
      "outputs": []
    },
    {
      "cell_type": "code",
      "metadata": {
        "id": "3PurhnIl7yvx"
      },
      "source": [
        "def remove_mentions(word):       \r\n",
        "    result = re.sub(r\"@\\S+\", \"\", word)       \r\n",
        "    return result"
      ],
      "execution_count": 104,
      "outputs": []
    },
    {
      "cell_type": "code",
      "metadata": {
        "id": "bDp4KIi173WN"
      },
      "source": [
        "def remove_special_characters(word):       \r\n",
        "    result = word.translate(str.maketrans(dict.fromkeys(string.punctuation)))    \r\n",
        "    return result"
      ],
      "execution_count": 105,
      "outputs": []
    },
    {
      "cell_type": "code",
      "metadata": {
        "id": "ZCM82GtRHycS"
      },
      "source": [
        "def remove_stopwords(word):\r\n",
        "    return ' '.join(word for word in i.split() if word not in stopwords_lower)\r\n"
      ],
      "execution_count": 106,
      "outputs": []
    },
    {
      "cell_type": "code",
      "metadata": {
        "id": "7WQv--41HgGf"
      },
      "source": [
        "def remove_whitespace(word):\r\n",
        "    result = word.strip()\r\n",
        "    return result\r\n"
      ],
      "execution_count": 107,
      "outputs": []
    },
    {
      "cell_type": "code",
      "metadata": {
        "id": "j8JXfUdEHd2n"
      },
      "source": [
        "def remove_punctuation(word):\r\n",
        "    result = re.sub('[^A-Za-z]+', ' ', word)\r\n",
        "    return result\r\n"
      ],
      "execution_count": 108,
      "outputs": []
    },
    {
      "cell_type": "code",
      "metadata": {
        "id": "S2MLfCSSHsmF"
      },
      "source": [
        "def replace_newline(word):\r\n",
        "    return word.replace('\\n','')"
      ],
      "execution_count": 109,
      "outputs": []
    },
    {
      "cell_type": "code",
      "metadata": {
        "id": "D4131L7l8CTW"
      },
      "source": [
        "def remove_hyperlink(word):       \r\n",
        "    return re.sub(r\"http\\S+\", \"\", word)"
      ],
      "execution_count": 110,
      "outputs": []
    },
    {
      "cell_type": "code",
      "metadata": {
        "id": "_mYW-AlBH-lz"
      },
      "source": [
        "def clean_up_pipeline(sentence):\r\n",
        "    cleaning_data = [remove_hyperlink,\r\n",
        "                      replace_newline,\r\n",
        "                      to_lower,\r\n",
        "                      remove_number,\r\n",
        "                      remove_punctuation,\r\n",
        "                      remove_whitespace]\r\n",
        "    for func in cleaning_data:\r\n",
        "        \r\n",
        "        sentence = func(sentence)\r\n",
        "    return sentence\r\n"
      ],
      "execution_count": 111,
      "outputs": []
    },
    {
      "cell_type": "code",
      "metadata": {
        "colab": {
          "base_uri": "https://localhost:8080/"
        },
        "id": "U-3qxN4QIEWu",
        "outputId": "d2de4d1b-30f8-41a3-8a4d-68d6e1850c17"
      },
      "source": [
        "totall_train = totall_train.apply(clean_up_pipeline)\r\n",
        "print(totall_train)\r\n"
      ],
      "execution_count": 112,
      "outputs": [
        {
          "output_type": "stream",
          "text": [
            "568    bitcoin price suffered a powerful correction f...\n",
            "521    bitcoin price extended its rise above the resi...\n",
            "162    bitcoin is trading in a contracting range abov...\n",
            "804    an important fundamental health signal of the ...\n",
            "372    things have been looking up for bitcoin the cr...\n",
            "                             ...                        \n",
            "379    bitcoin has been surging higher over recent we...\n",
            "158    with bitcoin trading sideways for so long and ...\n",
            "598    bitcoin s price action has been flashing warni...\n",
            "76     peter schiff the ceo of euro pacific capital s...\n",
            "275    bitcoin s price is currently flashing signs of...\n",
            "Name: totallText, Length: 684, dtype: object\n"
          ],
          "name": "stdout"
        }
      ]
    },
    {
      "cell_type": "markdown",
      "metadata": {
        "id": "1OBNh0cu8FPC"
      },
      "source": [
        "#####***B. Tokenization***"
      ]
    },
    {
      "cell_type": "code",
      "metadata": {
        "id": "7XMIcOMk8W73"
      },
      "source": [
        "from nltk.tokenize import word_tokenize\r\n",
        "totall_train = totall_train.apply(word_tokenize)\r\n",
        "#cleaned_tweets_test = cleaned_tweets_test.apply(word_tokenize)"
      ],
      "execution_count": 113,
      "outputs": []
    },
    {
      "cell_type": "code",
      "metadata": {
        "colab": {
          "base_uri": "https://localhost:8080/"
        },
        "id": "WG4IgI99I-KA",
        "outputId": "a39e3a7c-4377-4a20-f435-485c8ec0df0a"
      },
      "source": [
        "totall_train.head(3)"
      ],
      "execution_count": 114,
      "outputs": [
        {
          "output_type": "execute_result",
          "data": {
            "text/plain": [
              "568    [bitcoin, price, suffered, a, powerful, correc...\n",
              "521    [bitcoin, price, extended, its, rise, above, t...\n",
              "162    [bitcoin, is, trading, in, a, contracting, ran...\n",
              "Name: totallText, dtype: object"
            ]
          },
          "metadata": {
            "tags": []
          },
          "execution_count": 114
        }
      ]
    },
    {
      "cell_type": "markdown",
      "metadata": {
        "id": "bqBnK0Mz9I1t"
      },
      "source": [
        "#####***C. Stemming***"
      ]
    },
    {
      "cell_type": "code",
      "metadata": {
        "id": "0TYnKDg89SX9"
      },
      "source": [
        "from nltk.stem.porter import PorterStemmer\r\n",
        "stemmer = PorterStemmer()\r\n",
        "def stem_words(text):\r\n",
        "    return \" \".join([stemmer.stem(word) for word in text])\r\n",
        "totall_train = totall_train.apply(lambda text: stem_words(text))\r\n"
      ],
      "execution_count": 115,
      "outputs": []
    },
    {
      "cell_type": "code",
      "metadata": {
        "colab": {
          "base_uri": "https://localhost:8080/"
        },
        "id": "NadSTcDZOaTv",
        "outputId": "b5e02f03-740d-40c1-e8eb-8b220630bb39"
      },
      "source": [
        "totall_train.head(3)"
      ],
      "execution_count": 116,
      "outputs": [
        {
          "output_type": "execute_result",
          "data": {
            "text/plain": [
              "568    bitcoin price suffer a power correct from the ...\n",
              "521    bitcoin price extend it rise abov the resist a...\n",
              "162    bitcoin is trade in a contract rang abov again...\n",
              "Name: totallText, dtype: object"
            ]
          },
          "metadata": {
            "tags": []
          },
          "execution_count": 116
        }
      ]
    },
    {
      "cell_type": "markdown",
      "metadata": {
        "id": "OM98uUSv9S0V"
      },
      "source": [
        "#***Word Embedding Techniques***"
      ]
    },
    {
      "cell_type": "markdown",
      "metadata": {
        "id": "chFCNVwH9bwT"
      },
      "source": [
        "#####***Word2Vec***"
      ]
    },
    {
      "cell_type": "code",
      "metadata": {
        "colab": {
          "base_uri": "https://localhost:8080/"
        },
        "id": "1IwDPw5o9w6r",
        "outputId": "79477595-93b4-4929-f1a2-198dd271a352"
      },
      "source": [
        "import gensim\r\n",
        "tokenize=totall_train.apply(lambda x: x.split())\r\n",
        "w2vec_model=gensim.models.Word2Vec(tokenize,min_count = 1, size = 100, window = 5, sg = 1)\r\n",
        "w2vec_model.train(tokenize,total_examples= len(totall_train),epochs=20)"
      ],
      "execution_count": 117,
      "outputs": [
        {
          "output_type": "execute_result",
          "data": {
            "text/plain": [
              "(511460, 739420)"
            ]
          },
          "metadata": {
            "tags": []
          },
          "execution_count": 117
        }
      ]
    },
    {
      "cell_type": "code",
      "metadata": {
        "id": "dg7w3q68Ju3S"
      },
      "source": [
        "from sklearn.feature_extraction.text import CountVectorizer"
      ],
      "execution_count": 118,
      "outputs": []
    },
    {
      "cell_type": "code",
      "metadata": {
        "id": "DfBagXrOJyhm"
      },
      "source": [
        "bow=CountVectorizer( min_df=2, max_features=1000)\r\n",
        "bow.fit(totall_train)\r\n",
        "bow_df=bow.transform(totall_train).toarray()"
      ],
      "execution_count": 119,
      "outputs": []
    },
    {
      "cell_type": "code",
      "metadata": {
        "colab": {
          "base_uri": "https://localhost:8080/"
        },
        "id": "dfZxeYL4J1Aq",
        "outputId": "1b95a0c4-4f29-4b33-b762-710c7089180e"
      },
      "source": [
        "bow_df.shape"
      ],
      "execution_count": 120,
      "outputs": [
        {
          "output_type": "execute_result",
          "data": {
            "text/plain": [
              "(684, 1000)"
            ]
          },
          "metadata": {
            "tags": []
          },
          "execution_count": 120
        }
      ]
    },
    {
      "cell_type": "markdown",
      "metadata": {
        "id": "TgIF4TqB900-"
      },
      "source": [
        "#####***Model Fitting***"
      ]
    },
    {
      "cell_type": "code",
      "metadata": {
        "id": "t1R1hhkA97qE"
      },
      "source": [
        "from sklearn.linear_model import LogisticRegression\r\n",
        "from sklearn import linear_model\r\n",
        "from sklearn.naive_bayes import GaussianNB\r\n",
        "from sklearn.metrics import f1_score\r\n",
        "import numpy as np\r\n",
        "from sklearn.svm import SVC"
      ],
      "execution_count": 121,
      "outputs": []
    },
    {
      "cell_type": "code",
      "metadata": {
        "id": "3chYIqVzJ9GS"
      },
      "source": [
        "target_train =np.array(target_train)"
      ],
      "execution_count": 122,
      "outputs": []
    },
    {
      "cell_type": "code",
      "metadata": {
        "id": "-gjdxfgpS1Hr"
      },
      "source": [
        "from textblob import TextBlob\r\n",
        "\r\n",
        "tresult = [TextBlob(i).sentiment.polarity for i in totall_train]\r\n",
        "tpred = [0 if n < 0 else 1 for n in tresult]"
      ],
      "execution_count": 123,
      "outputs": []
    },
    {
      "cell_type": "markdown",
      "metadata": {
        "id": "-Gq4tfOo94YP"
      },
      "source": [
        "#####**Performance Metrics for News Bitcoin Sentiment Analysis**"
      ]
    },
    {
      "cell_type": "code",
      "metadata": {
        "id": "F1JQolU8yPNJ"
      },
      "source": [
        "vec = CountVectorizer() \r\n",
        "\r\n",
        "X_train_transformed =  vec.fit_transform(totall_train) \r\n",
        "\r\n",
        "X_test_transformed = vec.transform(totall_test)\r\n"
      ],
      "execution_count": 124,
      "outputs": []
    },
    {
      "cell_type": "code",
      "metadata": {
        "colab": {
          "base_uri": "https://localhost:8080/"
        },
        "id": "S0zJO78aPbkC",
        "outputId": "3fa50e9b-6ea9-405e-8f88-3ec6c43ce749"
      },
      "source": [
        "from sklearn.naive_bayes import MultinomialNB\r\n",
        "import matplotlib.pyplot as plt\r\n",
        "from sklearn.metrics import confusion_matrix,f1_score, precision_score,recall_score\r\n",
        "\r\n",
        "\r\n",
        "clf= MultinomialNB()\r\n",
        "clf.fit(X_train_transformed, target_train)\r\n",
        "\r\n",
        "score = clf.score(X_test_transformed, target_test)\r\n",
        "print(\"score of Naive Bayes algo is :\\n   \" , score)\r\n",
        "\r\n",
        "y_pred = clf.predict(X_test_transformed)\r\n",
        "cf_matrix=confusion_matrix(target_test,y_pred)\r\n",
        "print(cf_matrix)\r\n",
        "\r\n",
        "print(precision_score(target_test,y_pred,pos_label=1,average='macro'))\r\n",
        "print(recall_score(target_test, y_pred, pos_label=1,average='macro') )\r\n",
        "\r\n",
        "print(\"F1_Score :\",f1_score(target_test, y_pred, pos_label=1,average='weighted'))\r\n",
        "\r\n"
      ],
      "execution_count": 125,
      "outputs": [
        {
          "output_type": "stream",
          "text": [
            "score of Naive Bayes algo is :\n",
            "    0.4269005847953216\n",
            "[[ 6 34  2]\n",
            " [ 7 65 11]\n",
            " [ 6 38  2]]\n",
            "0.3078584539206898\n",
            "0.3231559779490633\n",
            "F1_Score : 0.35277276649148953\n"
          ],
          "name": "stdout"
        }
      ]
    },
    {
      "cell_type": "code",
      "metadata": {
        "colab": {
          "base_uri": "https://localhost:8080/",
          "height": 283
        },
        "id": "r4ZBC9MXKZ6y",
        "outputId": "ef240861-856c-4d29-bf70-7a551c4fb9ea"
      },
      "source": [
        "import seaborn as sns\r\n",
        "sns.heatmap(cf_matrix, annot=True)"
      ],
      "execution_count": 126,
      "outputs": [
        {
          "output_type": "execute_result",
          "data": {
            "text/plain": [
              "<matplotlib.axes._subplots.AxesSubplot at 0x7f2c1121a4e0>"
            ]
          },
          "metadata": {
            "tags": []
          },
          "execution_count": 126
        },
        {
          "output_type": "display_data",
          "data": {
            "image/png": "[encoded data removed]",
            "text/plain": [
              "<Figure size 432x288 with 2 Axes>"
            ]
          },
          "metadata": {
            "tags": [],
            "needs_background": "light"
          }
        }
      ]
    },
    {
      "cell_type": "code",
      "metadata": {
        "id": "sbiuFs45yerY"
      },
      "source": [
        "from sklearn.svm import LinearSVC"
      ],
      "execution_count": 127,
      "outputs": []
    },
    {
      "cell_type": "code",
      "metadata": {
        "colab": {
          "base_uri": "https://localhost:8080/"
        },
        "id": "sOax3OfVyb2-",
        "outputId": "8df39535-cb00-4972-ae09-2808cecfb13d"
      },
      "source": [
        "model = LinearSVC()\r\n",
        "#X_train, X_test, y_train, y_test, indices_train, indices_test = train_test_split(features, labels, df.index, test_size=0.33, random_state=0)\r\n",
        "model.fit(X_train_transformed, target_train)\r\n",
        "y_pred = model.predict(X_test_transformed)\r\n",
        "\r\n",
        "score = model.score(X_test_transformed, target_test)\r\n",
        "print(\"score of SVM is :\\n   \" , score)\r\n",
        "\r\n",
        "y_pred = model.predict(X_test_transformed)\r\n",
        "cf_matrix=confusion_matrix(target_test,y_pred)\r\n",
        "print(cf_matrix)\r\n",
        "\r\n",
        "print(precision_score(target_test,y_pred,pos_label=1,average='macro'))\r\n",
        "print(recall_score(target_test, y_pred, pos_label=1,average='macro') )\r\n",
        "\r\n",
        "print(\"F1_Score :\",f1_score(target_test, y_pred, pos_label=1,average='weighted'))\r\n",
        "\r\n"
      ],
      "execution_count": 128,
      "outputs": [
        {
          "output_type": "stream",
          "text": [
            "score of SVM is :\n",
            "    0.42105263157894735\n",
            "[[19 13 10]\n",
            " [19 44 20]\n",
            " [10 27  9]]\n",
            "0.383470695970696\n",
            "0.3927178694072356\n",
            "F1_Score : 0.4164388114036804\n"
          ],
          "name": "stdout"
        },
        {
          "output_type": "stream",
          "text": [
            "/usr/local/lib/python3.6/dist-packages/sklearn/svm/_base.py:947: ConvergenceWarning: Liblinear failed to converge, increase the number of iterations.\n",
            "  \"the number of iterations.\", ConvergenceWarning)\n"
          ],
          "name": "stderr"
        }
      ]
    },
    {
      "cell_type": "code",
      "metadata": {
        "colab": {
          "base_uri": "https://localhost:8080/",
          "height": 283
        },
        "id": "DmFBPxuAynQA",
        "outputId": "3812ffec-1684-46c3-9905-cb68048696cb"
      },
      "source": [
        "import seaborn as sns\r\n",
        "sns.heatmap(cf_matrix, annot=True)"
      ],
      "execution_count": 129,
      "outputs": [
        {
          "output_type": "execute_result",
          "data": {
            "text/plain": [
              "<matplotlib.axes._subplots.AxesSubplot at 0x7f2c0c134b38>"
            ]
          },
          "metadata": {
            "tags": []
          },
          "execution_count": 129
        },
        {
          "output_type": "display_data",
          "data": {
            "image/png": "[encoded data removed]",
            "text/plain": [
              "<Figure size 432x288 with 2 Axes>"
            ]
          },
          "metadata": {
            "tags": [],
            "needs_background": "light"
          }
        }
      ]
    }
  ]
}